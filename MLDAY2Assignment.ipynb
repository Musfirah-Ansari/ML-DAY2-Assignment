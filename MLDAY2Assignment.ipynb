{
  "nbformat": 4,
  "nbformat_minor": 0,
  "metadata": {
    "colab": {
      "provenance": [],
      "authorship_tag": "ABX9TyO65ZIPqbz8peon8ANKvL2G",
      "include_colab_link": true
    },
    "kernelspec": {
      "name": "python3",
      "display_name": "Python 3"
    },
    "language_info": {
      "name": "python"
    }
  },
  "cells": [
    {
      "cell_type": "markdown",
      "metadata": {
        "id": "view-in-github",
        "colab_type": "text"
      },
      "source": [
        "<a href=\"https://colab.research.google.com/github/Musfirah-Ansari/ML-DAY2-Assignment/blob/main/MLDAY2Assignment.ipynb\" target=\"_parent\"><img src=\"https://colab.research.google.com/assets/colab-badge.svg\" alt=\"Open In Colab\"/></a>"
      ]
    },
    {
      "cell_type": "markdown",
      "source": [
        "# ***ML DAY 2 Assignment By \"MUSFIRAH FAYYAZ\"***\n",
        "\n",
        "### Create a program to simulate and analyze the temperature readings of a month. The program should:\n",
        "### Generate random daily temperature values for 30 days, ranging from 15°C to 35°C.\n",
        "### Calculate the average, maximum, and minimum temperatures for the entire month.\n",
        "### Identify the number of days when the temperature exceeds 30°C (considered as hot days).\n",
        "### Determine the hottest day of the month, based on the highest temperature recorded.\n",
        "###Reshape the daily temperatures into weekly data for better analysis (consider 4 weeks with 7 days each).\n",
        "### Calculate the total temperature and average temperature for each week."
      ],
      "metadata": {
        "id": "vpW8nucxasrA"
      }
    },
    {
      "cell_type": "markdown",
      "source": [
        "# ***Monthly Temperature Tracker and Analyzer***\n",
        "\n",
        "> *Welcome to The \"Climate Insights: Monthly Temperature Simulation and Analysis*"
      ],
      "metadata": {
        "id": "E6w_H2jyQIpY"
      }
    },
    {
      "cell_type": "code",
      "source": [
        "# ML DAY 2 Assignment By \"MUSFIRAH FAYYAZ\"\n",
        "\n",
        "import numpy as np"
      ],
      "metadata": {
        "id": "rVGa1kG6P7eK"
      },
      "execution_count": 89,
      "outputs": []
    },
    {
      "cell_type": "code",
      "source": [
        "monthDays = 30\n",
        "dailyTemperatureReadings = np.random.uniform(15, 35, monthDays)\n",
        "print(\"Daily Temperature Readings (°C) for the Month:\\n\")\n",
        "for i, temp in enumerate(dailyTemperatureReadings, 1):\n",
        "    print(f\"Day {i}: {temp:.2f}°C\")"
      ],
      "metadata": {
        "colab": {
          "base_uri": "https://localhost:8080/"
        },
        "id": "ThIcLXoZSOX1",
        "outputId": "bab012ec-ef67-47d9-af30-015f38dd9f39"
      },
      "execution_count": 90,
      "outputs": [
        {
          "output_type": "stream",
          "name": "stdout",
          "text": [
            "Daily Temperature Readings (°C) for the Month:\n",
            "\n",
            "Day 1: 31.10°C\n",
            "Day 2: 26.82°C\n",
            "Day 3: 24.58°C\n",
            "Day 4: 31.09°C\n",
            "Day 5: 34.42°C\n",
            "Day 6: 23.00°C\n",
            "Day 7: 18.86°C\n",
            "Day 8: 32.95°C\n",
            "Day 9: 18.65°C\n",
            "Day 10: 20.62°C\n",
            "Day 11: 17.78°C\n",
            "Day 12: 30.52°C\n",
            "Day 13: 30.66°C\n",
            "Day 14: 34.05°C\n",
            "Day 15: 16.96°C\n",
            "Day 16: 28.32°C\n",
            "Day 17: 20.81°C\n",
            "Day 18: 25.12°C\n",
            "Day 19: 25.29°C\n",
            "Day 20: 33.04°C\n",
            "Day 21: 22.82°C\n",
            "Day 22: 25.71°C\n",
            "Day 23: 29.44°C\n",
            "Day 24: 20.08°C\n",
            "Day 25: 28.87°C\n",
            "Day 26: 32.90°C\n",
            "Day 27: 29.07°C\n",
            "Day 28: 34.77°C\n",
            "Day 29: 32.28°C\n",
            "Day 30: 22.73°C\n"
          ]
        }
      ]
    },
    {
      "cell_type": "code",
      "source": [
        "averageTemperature = np.mean(dailyTemperatureReadings)\n",
        "maximumTemperature = np.max(dailyTemperatureReadings)\n",
        "minimumTemperature = np.min(dailyTemperatureReadings)\n",
        "\n",
        "print(\"\\n--- Temperature Summary for the Month ---\\n\")\n",
        "print(f\"Average Temperature for the month: {averageTemperature:.2f}°C\")\n",
        "print(f\"Maximum Temperature for the month: {maximumTemperature:.2f}°C\")\n",
        "print(f\"Minimum Temperature for the month: {minimumTemperature:.2f}°C\")\n"
      ],
      "metadata": {
        "colab": {
          "base_uri": "https://localhost:8080/"
        },
        "id": "wcrrz9RmSZ2a",
        "outputId": "fceefba1-e9ff-4b05-a3f2-403469747c59"
      },
      "execution_count": 91,
      "outputs": [
        {
          "output_type": "stream",
          "name": "stdout",
          "text": [
            "\n",
            "--- Temperature Summary for the Month ---\n",
            "\n",
            "Average Temperature for the month: 26.78°C\n",
            "Maximum Temperature for the month: 34.77°C\n",
            "Minimum Temperature for the month: 16.96°C\n"
          ]
        }
      ]
    },
    {
      "cell_type": "code",
      "source": [
        "hotDays = np.sum(dailyTemperatureReadings > 30)\n",
        "\n",
        "print(\"\\n------------------ Hot Days Summary --------------------\\n\")\n",
        "print(f\"Number of Hot Days (Days with temperature > 30°C): {hotDays} days\")\n"
      ],
      "metadata": {
        "colab": {
          "base_uri": "https://localhost:8080/"
        },
        "id": "f8Kb0DssSoVQ",
        "outputId": "c083afac-72b7-43e3-8527-9c82b445021b"
      },
      "execution_count": 92,
      "outputs": [
        {
          "output_type": "stream",
          "name": "stdout",
          "text": [
            "\n",
            "------------------ Hot Days Summary --------------------\n",
            "\n",
            "Number of Hot Days (Days with temperature > 30°C): 11 days\n"
          ]
        }
      ]
    },
    {
      "cell_type": "code",
      "source": [
        "hottestDayNumber = np.argmax(dailyTemperatureReadings)\n",
        "hottestDayTemperature = dailyTemperatureReadings[hottestDayNumber]\n",
        "\n",
        "print(\"\\n----------- Hottest Day Summary ------------\\n\")\n",
        "print(f\"Hottest Day Temperature: {hottestDayTemperature:.2f}°C on Day {hottestDayNumber + 1}\")\n"
      ],
      "metadata": {
        "colab": {
          "base_uri": "https://localhost:8080/"
        },
        "id": "dGicBVqmTO3k",
        "outputId": "a5b8ee2e-9907-4524-8934-c41e462d7382"
      },
      "execution_count": 93,
      "outputs": [
        {
          "output_type": "stream",
          "name": "stdout",
          "text": [
            "\n",
            "----------- Hottest Day Summary ------------\n",
            "\n",
            "Hottest Day Temperature: 34.77°C on Day 28\n"
          ]
        }
      ]
    },
    {
      "cell_type": "code",
      "source": [
        "#weeklyTemperatureReadings = dailyTemperatureReadings.reshape(4, 7)\n",
        "\n",
        "weeklyTemperatureReadings = dailyTemperatureReadings.reshape(5, 6)\n",
        "\n",
        "print(\"\\n------------ Reshaping Daily Temperatures into Weekly Data -------------\\n\")\n",
        "print(\"Temperature readings for each week (5 weeks, 6 days each):\\n\")\n",
        "print(weeklyTemperatureReadings)\n"
      ],
      "metadata": {
        "colab": {
          "base_uri": "https://localhost:8080/"
        },
        "id": "GDMGLmvTTdlm",
        "outputId": "5c30eba2-2c61-48e1-e0f9-72e07b522b30"
      },
      "execution_count": 94,
      "outputs": [
        {
          "output_type": "stream",
          "name": "stdout",
          "text": [
            "\n",
            "------------ Reshaping Daily Temperatures into Weekly Data -------------\n",
            "\n",
            "Temperature readings for each week (5 weeks, 6 days each):\n",
            "\n",
            "[[31.10256042 26.81567118 24.58143167 31.09371238 34.42375097 23.00169438]\n",
            " [18.85850464 32.95322994 18.65463236 20.62173446 17.77604784 30.51937874]\n",
            " [30.65696917 34.05155535 16.95682981 28.3186945  20.80569368 25.1179921 ]\n",
            " [25.29250514 33.04472546 22.82432224 25.70685956 29.44454893 20.07529504]\n",
            " [28.86506036 32.89846616 29.06693173 34.76763537 32.27753136 22.73020098]]\n"
          ]
        }
      ]
    },
    {
      "cell_type": "code",
      "source": [
        "totalTemperatureWeekly = np.sum(weeklyTemperatureReadings, axis=1)\n",
        "\n",
        "print(\"\\n--- Weekly Temperature Totals ---\\n\")\n",
        "print(\"Total Temperature for Each Week:\\n\")\n",
        "for i, total in enumerate(totalTemperatureWeekly, 1):\n",
        "    print(f\"Week {i}: Total Temperature = {total:.2f}°C\")\n"
      ],
      "metadata": {
        "colab": {
          "base_uri": "https://localhost:8080/"
        },
        "id": "zOWzrm_LV8gg",
        "outputId": "ec1de66b-65d7-49a3-83f1-9cd7523453a3"
      },
      "execution_count": 95,
      "outputs": [
        {
          "output_type": "stream",
          "name": "stdout",
          "text": [
            "\n",
            "--- Weekly Temperature Totals ---\n",
            "\n",
            "Total Temperature for Each Week:\n",
            "\n",
            "Week 1: Total Temperature = 171.02°C\n",
            "Week 2: Total Temperature = 139.38°C\n",
            "Week 3: Total Temperature = 155.91°C\n",
            "Week 4: Total Temperature = 156.39°C\n",
            "Week 5: Total Temperature = 180.61°C\n"
          ]
        }
      ]
    },
    {
      "cell_type": "code",
      "source": [
        "averageTemperatureWeekly = np.mean(weeklyTemperatureReadings, axis=1)\n",
        "\n",
        "print(\"\\n--- Weekly Average Temperature ---\")\n",
        "print(\"Average Temperature for Each Week:\\n\")\n",
        "for i, avg in enumerate(averageTemperatureWeekly, 1):\n",
        "    print(f\"Week {i}: Average Temperature = {avg:.2f}°C\")\n"
      ],
      "metadata": {
        "colab": {
          "base_uri": "https://localhost:8080/"
        },
        "id": "iuleKvEtacP2",
        "outputId": "ebfd3105-fcba-46ae-d4e8-a6f3317baa58"
      },
      "execution_count": 96,
      "outputs": [
        {
          "output_type": "stream",
          "name": "stdout",
          "text": [
            "\n",
            "--- Weekly Average Temperature ---\n",
            "Average Temperature for Each Week:\n",
            "\n",
            "Week 1: Average Temperature = 28.50°C\n",
            "Week 2: Average Temperature = 23.23°C\n",
            "Week 3: Average Temperature = 25.98°C\n",
            "Week 4: Average Temperature = 26.06°C\n",
            "Week 5: Average Temperature = 30.10°C\n"
          ]
        }
      ]
    },
    {
      "cell_type": "code",
      "source": [
        "print(\"\\n--- WEEKLY DATA ANALYSIS ---\\n\")\n",
        "for week_number in range(4):\n",
        "    print(f\"Week #{week_number + 1} 🗓️:\")\n",
        "    print(f\"  Total Temperature 🌡️ = {totalTemperatureWeekly[week_number]:.2f}°C\")\n",
        "    print(f\"  Average Temperature 🌞 = {averageTemperatureWeekly[week_number]:.2f}°C\\n\")\n"
      ],
      "metadata": {
        "colab": {
          "base_uri": "https://localhost:8080/"
        },
        "id": "SBVGUK3Saudh",
        "outputId": "4d876b47-2b28-4288-8d9c-7f6a83364329"
      },
      "execution_count": 97,
      "outputs": [
        {
          "output_type": "stream",
          "name": "stdout",
          "text": [
            "\n",
            "--- WEEKLY DATA ANALYSIS ---\n",
            "\n",
            "Week #1 🗓️:\n",
            "  Total Temperature 🌡️ = 171.02°C\n",
            "  Average Temperature 🌞 = 28.50°C\n",
            "\n",
            "Week #2 🗓️:\n",
            "  Total Temperature 🌡️ = 139.38°C\n",
            "  Average Temperature 🌞 = 23.23°C\n",
            "\n",
            "Week #3 🗓️:\n",
            "  Total Temperature 🌡️ = 155.91°C\n",
            "  Average Temperature 🌞 = 25.98°C\n",
            "\n",
            "Week #4 🗓️:\n",
            "  Total Temperature 🌡️ = 156.39°C\n",
            "  Average Temperature 🌞 = 26.06°C\n",
            "\n"
          ]
        }
      ]
    }
  ]
}